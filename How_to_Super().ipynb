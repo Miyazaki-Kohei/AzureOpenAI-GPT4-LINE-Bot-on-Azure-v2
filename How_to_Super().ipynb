{
  "nbformat": 4,
  "nbformat_minor": 0,
  "metadata": {
    "colab": {
      "provenance": [],
      "authorship_tag": "ABX9TyMpX5DNohbDeg8temqqeBXp",
      "include_colab_link": true
    },
    "kernelspec": {
      "name": "python3",
      "display_name": "Python 3"
    },
    "language_info": {
      "name": "python"
    }
  },
  "cells": [
    {
      "cell_type": "markdown",
      "metadata": {
        "id": "view-in-github",
        "colab_type": "text"
      },
      "source": [
        "<a href=\"https://colab.research.google.com/github/Miyazaki-Kohei/AzureOpenAI-GPT4-LINE-Bot-on-Azure-v2/blob/main/How_to_Super().ipynb\" target=\"_parent\"><img src=\"https://colab.research.google.com/assets/colab-badge.svg\" alt=\"Open In Colab\"/></a>"
      ]
    },
    {
      "cell_type": "markdown",
      "source": [
        "# `Super()`について\n"
      ],
      "metadata": {
        "id": "L5ha03EdAVeE"
      }
    },
    {
      "cell_type": "code",
      "execution_count": 1,
      "metadata": {
        "colab": {
          "base_uri": "https://localhost:8080/"
        },
        "id": "Zpt32UDpAUOX",
        "outputId": "a0cd836e-5ef0-421e-921b-64c582f30b5b"
      },
      "outputs": [
        {
          "output_type": "stream",
          "name": "stdout",
          "text": [
            "Animal sound\n",
            "Woof!\n"
          ]
        }
      ],
      "source": [
        "# main.py\n",
        "class Animal:\n",
        "  def speak(self):\n",
        "    print(\"Animal sound\")\n",
        "\n",
        "class Dog(Animal):\n",
        "  def speak(self):\n",
        "    super().speak() # Calls the 'speak()' method of the parent class\n",
        "    print(\"Woof!\")\n",
        "\n",
        "dog_instance = Dog()\n",
        "dog_instance.speak()"
      ]
    },
    {
      "cell_type": "code",
      "source": [
        "# main.py\n",
        "class Animal:\n",
        "  def __init__(self,name):\n",
        "    self.name = name\n",
        "\n",
        "  def speak(self):\n",
        "    print(self.name+\" says \")\n",
        "\n",
        "class Dog(Animal):\n",
        "  def __init__(self, name, emotion):\n",
        "    super().__init__(name) # Calls the parent class's constructor\n",
        "    self.emotion = emotion\n",
        "\n",
        "  def speak(self):\n",
        "    super().speak()\n",
        "    print(\"Woof \"+self.emotion)\n",
        "\n",
        "dog_instance = Dog(\"Whiskey\", \"happily\")\n",
        "dog_instance.speak()"
      ],
      "metadata": {
        "colab": {
          "base_uri": "https://localhost:8080/"
        },
        "id": "dImblT2TAmKC",
        "outputId": "1ed23c06-ec35-4211-9a26-354c0b02922f"
      },
      "execution_count": 2,
      "outputs": [
        {
          "output_type": "stream",
          "name": "stdout",
          "text": [
            "Whiskey says \n",
            "Woof happily\n"
          ]
        }
      ]
    },
    {
      "cell_type": "code",
      "source": [],
      "metadata": {
        "id": "_UtWBZ87A0TP"
      },
      "execution_count": null,
      "outputs": []
    }
  ]
}